{
 "cells": [
  {
   "cell_type": "code",
   "execution_count": 2,
   "metadata": {},
   "outputs": [
    {
     "name": "stdout",
     "output_type": "stream",
     "text": [
      "File 'C:\\Users\\pcpapa\\creeper_1_0_1\\creeper\\creeper_for_v2\\output\\9sadhkah823n-12803nkansd90-asdl.tmp' uploaded as '/testFolder/123/9sadhkah823n-12803nkansd90-asdl.tmp'\n",
      "File 'C:\\Users\\pcpapa\\creeper_1_0_1\\creeper\\creeper_for_v2\\output\\intersto.mdb' uploaded as '/testFolder/123/intersto.mdb'\n"
     ]
    }
   ],
   "source": [
    "from minio import Minio\n",
    "from minio.error import S3Error\n",
    "import os\n",
    "import json\n",
    "import creeper_for_v2.main as mainV2\n",
    "\n",
    "MINIO_URL = \"192.168.100.28:9000\"\n",
    "ACCESS_KEY = \"bUXfpLrKqeGxDAnTaC7z\"\n",
    "SECRET_KEY = \"IJVnBbUwiM2kq2j9bz8vGADv16hOIzncyPs9iGlE\"\n",
    "\n",
    "\n",
    "def uploadFilesToMinio(bucketName, objectsPath:list): # list of tuples\n",
    "    minio_client = Minio(\n",
    "        MINIO_URL,\n",
    "        access_key = ACCESS_KEY,\n",
    "        secret_key =  SECRET_KEY,\n",
    "        secure = False\n",
    "    )\n",
    "    #chekck if the bucket exist\n",
    "    found = minio_client.bucket_exists(bucketName)\n",
    "    if not found:\n",
    "        minio_client.make_bucket(bucketName)\n",
    "    else:\n",
    "        print(\"Bucket already exits\")\n",
    "    \n",
    "    for filePathTuple in objectsPath:\n",
    "        objectName = filePathTuple[0]\n",
    "        filePath  = filePathTuple[1]\n",
    "        try:\n",
    "            minio_client.fput_object(bucketName, objectName, filePath )\n",
    "            print(f\"File '{filePath}' uploaded as '{objectName}'\")\n",
    "        except S3Error as err:\n",
    "            print(f\"Error occurred: {err}\")\n",
    "            \n",
    "lista = [\n",
    "    (\"/testFolder/123/9sadhkah823n-12803nkansd90-asdl.tmp\", \"C:\\\\Users\\\\pcpapa\\\\creeper_1_0_1\\\\creeper\\\\creeper_for_v2\\\\output\\\\9sadhkah823n-12803nkansd90-asdl.tmp\"),\n",
    "    (\"/testFolder/123/intersto.mdb\", \"C:\\\\Users\\\\pcpapa\\\\creeper_1_0_1\\\\creeper\\\\creeper_for_v2\\\\output\\\\intersto.mdb\")]\n",
    "uploadFilesToMinio(\"creeper-for-v2\", lista)"
   ]
  },
  {
   "cell_type": "code",
   "execution_count": null,
   "metadata": {},
   "outputs": [],
   "source": []
  }
 ],
 "metadata": {
  "kernelspec": {
   "display_name": "creeper_codetruck",
   "language": "python",
   "name": "python3"
  },
  "language_info": {
   "codemirror_mode": {
    "name": "ipython",
    "version": 3
   },
   "file_extension": ".py",
   "mimetype": "text/x-python",
   "name": "python",
   "nbconvert_exporter": "python",
   "pygments_lexer": "ipython3",
   "version": "3.10.14"
  }
 },
 "nbformat": 4,
 "nbformat_minor": 2
}
