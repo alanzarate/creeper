{
 "cells": [
  {
   "cell_type": "code",
   "execution_count": 13,
   "metadata": {},
   "outputs": [
    {
     "name": "stdout",
     "output_type": "stream",
     "text": [
      "Files and JSON data uploaded successfully.\n"
     ]
    }
   ],
   "source": [
    "import requests\n",
    "import os \n",
    "import json\n",
    "\n",
    "class Uploader:\n",
    "    def __init__(self):\n",
    "        pass\n",
    "\n",
    "    def uploadCompleteFlashFile(self, routeXml:str, routeTmp:str, routeImage: str, data:dict ):\n",
    "        files = {\n",
    "            'xmlFile': ('file', open(routeXml, 'rb'), 'application/xml') if routeXml else None,\n",
    "            'tmpFile': ('file', open(routeTmp, 'rb'), 'application/octet-stream' ) if routeTmp else None,\n",
    "            'thumbnail': ('file', open(routeImage, 'rb') ,  'image/jpeg' ) if routeImage else None,\n",
    "        }\n",
    "       \n",
    "        dataToSend = {\n",
    "            'data': json.dumps(data)  # Convert dictionary to JSON string\n",
    "            }\n",
    "\n",
    "        \n",
    "        # if routeXml and os.path.exists(routeXml):\n",
    "        #     #with open(routeXml, 'rb') as file:\n",
    "        #         #files['xmlFile'] = file\n",
    "        #     files['xmlFile'] = open(routeXml, 'rb')\n",
    "\n",
    "        # if routeTmp and os.path.exists(routeTmp):\n",
    "        #     files['tmpFile'] = open(routeTmp, 'rb')\n",
    "\n",
    "        # if routeImage and os.path.exists(routeImage):\n",
    "        #     files['thumbnail'] = open(routeImage, 'rb')\n",
    "        \n",
    "        \n",
    "\n",
    "        response = requests.post(url = \"http://localhost:8095/ms-file-mananger/v1/flashfile/v2\", files = files, data=dataToSend)\n",
    "        if response.status_code == 200:\n",
    "            print(\"Files and JSON data uploaded successfully.\")\n",
    "        else:\n",
    "            print(f\"Failed to upload files and JSON data. Status code: {response.status_code}\")\n",
    "            print(response.text)\n",
    "\n",
    "\n",
    "\n",
    "finalDATA = {'parameters':[{'code': '20995620', 'name': 'HardwareNo', 'value': ''}, {'code': '22991818', 'name': 'MSWNo', 'value': 'Engine'}, {'code': '22381211', 'name': 'Dataset1No', 'value': 'D13C500 EU2 VOLVO'}, {'code': '22894005', 'name': 'Dataset2No', 'value': 'TYPE-FH/FM EU2'}, {'code': '22373716', 'name': 'CSWNo', 'value': 'D13C500 EU2 VOLVO'}, {'code': '21488324', 'name': '', 'value': 'Manual gearboxes VOLVO (VT2514B/2814B)'}, {'code': '21302817', 'name': '', 'value': 'Fuel Filter: Sensor and Valve'}, {'code': '21302805', 'name': '', 'value': 'No start aid'}, {'code': '21312898', 'name': '', 'value': 'Emission OBD NOx Control, No Torque reduction'}, {'code': '21669422', 'name': '', 'value': 'Engine brake EBR-VEB+'}, {'code': '21302811', 'name': '', 'value': 'FAN TYPE FAN-VISE'}, {'code': '20763725', 'name': '', 'value': 'Extended engine protection'}, {'code': '21571523', 'name': '', 'value': 'Oil thermostat MD11COT'}, {'code': '21571516', 'name': '', 'value': 'PCJ EU5 500 hp'}, {'code': '22373734', 'name': '', 'value': 'AdBlue tank not available'}, {'code': '', 'name': 'isSWEqual', 'value': 'false'}, {'code': '', 'name': 'ChassisNo', 'value': '683748'}, {'code': '', 'name': 'GLOPPSNotRunning', 'value': 'false'}, {'code': '', 'name': 'Mid', 'value': '128'}, {'code': '', 'name': 'DSW', 'value': 'W0RTV0NvbnRlbnRdDQo6MDAwMDAwMDFGRg0K'}, {'code': '', 'name': 'ChassisSerie', 'value': 'B'}, {'code': '', 'name': 'CommercialDescription', 'value': 'Free of charge'}]}\n",
    "finalData2= {'parameters':[{'code': '20995620', 'name': 'HardwareNo', 'value': ''}, {'code': '22991818', 'name': 'MSWNo', 'value': 'Engine'}, {'code': '22381211', 'name': 'Dataset1No', 'value': 'D13C500 EU2 VOLVO'}, {'code': '22894005', 'name': 'Dataset2No', 'value': 'TYPE-FH/FM EU2'}, {'code': '22373724', 'name': 'CSWNo', 'value': 'D13C500 EU2 VOLVO'}, {'code': '21488479', 'name': '', 'value': 'Gearbox AMT-D'}, {'code': '21302817', 'name': '', 'value': 'Fuel Filter: Sensor and Valve'}, {'code': '21302804', 'name': '', 'value': 'Electronic start aid 24 V'}, {'code': '21312898', 'name': '', 'value': 'Emission OBD NOx Control, No Torque reduction'}, {'code': '21354204', 'name': '', 'value': 'Engine brake EBR-VEB+'}, {'code': '21302811', 'name': '', 'value': 'FAN TYPE FAN-VISE'}, {'code': '20763725', 'name': '', 'value': 'Extended engine protection'}, {'code': '21571523', 'name': '', 'value': 'Oil thermostat MD11COT'}, {'code': '21571516', 'name': '', 'value': 'PCJ EU5 500 hp'}, {'code': '22373734', 'name': '', 'value': 'AdBlue tank not available'}, {'code': '', 'name': 'isSWEqual', 'value': 'false'}, {'code': '', 'name': 'ChassisNo', 'value': '702356'}, {'code': '', 'name': 'GLOPPSNotRunning', 'value': 'false'}, {'code': '', 'name': 'Mid', 'value': '128'}, {'code': '', 'name': 'DSW', 'value': 'W0RTV0NvbnRlbnRdDQo6MDAwMDAwMDFGRg0K'}, {'code': '', 'name': 'ChassisSerie', 'value': 'A'}, {'code': '', 'name': 'CommercialDescription', 'value': 'Free of charge'}]}\n",
    "routeXML = './D415.tmp.xml'\n",
    "routePNG = './pexels-garvin-st-villier-719266-3311574.jpg'\n",
    "\n",
    "up = Uploader()\n",
    "up.uploadCompleteFlashFile(routeXml= routeXML, routeTmp= None, routeImage=routePNG, data= finalData2)\n"
   ]
  }
 ],
 "metadata": {
  "kernelspec": {
   "display_name": "creeper_codetruck",
   "language": "python",
   "name": "python3"
  },
  "language_info": {
   "codemirror_mode": {
    "name": "ipython",
    "version": 3
   },
   "file_extension": ".py",
   "mimetype": "text/x-python",
   "name": "python",
   "nbconvert_exporter": "python",
   "pygments_lexer": "ipython3",
   "version": "3.10.14"
  }
 },
 "nbformat": 4,
 "nbformat_minor": 2
}
